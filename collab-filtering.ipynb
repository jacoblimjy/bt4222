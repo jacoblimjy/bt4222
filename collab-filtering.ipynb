{
 "cells": [
  {
   "cell_type": "markdown",
   "metadata": {},
   "source": [
    "Loading of Datasets"
   ]
  },
  {
   "cell_type": "code",
   "execution_count": 68,
   "metadata": {},
   "outputs": [],
   "source": [
    "import pandas as pd\n",
    "import numpy as np\n",
    "\n",
    "courses_data = pd.read_csv(\"final_courses.csv\")\n",
    "job_data = pd.read_csv(\"final_jobs.csv\")\n",
    "test = pd.read_csv(\"test.csv\")\n",
    "train = pd.read_csv(\"train.csv\")\n",
    "eval = pd.read_csv(\"eval.csv\")\n"
   ]
  },
  {
   "cell_type": "code",
   "execution_count": 70,
   "metadata": {},
   "outputs": [],
   "source": [
    "max_abs_value_test = test['Demeaned Rating'].abs().max()\n",
    "test['Normalised Demeaned Rating'] = test['Demeaned Rating'] / max_abs_value_test\n",
    "\n",
    "max_abs_value_train = train['Demeaned Rating'].abs().max()\n",
    "train['Normalised Demeaned Rating'] = train['Demeaned Rating'] / max_abs_value_train\n",
    "\n",
    "max_abs_value_eval = eval['Demeaned Rating'].abs().max()\n",
    "eval['Normalised Demeaned Rating'] = eval['Demeaned Rating'] / max_abs_value_eval\n",
    "\n",
    "max_abs_value_courses = courses_data['Demeaned Rating'].abs().max()\n",
    "courses_data['Normalised Demeaned Rating'] = courses_data['Demeaned Rating'] / max_abs_value_courses"
   ]
  },
  {
   "cell_type": "code",
   "execution_count": 37,
   "metadata": {},
   "outputs": [
    {
     "name": "stderr",
     "output_type": "stream",
     "text": [
      "[nltk_data] Downloading package vader_lexicon to\n",
      "[nltk_data]     C:\\Users\\User\\AppData\\Roaming\\nltk_data...\n",
      "[nltk_data]   Package vader_lexicon is already up-to-date!\n"
     ]
    }
   ],
   "source": [
    "import nltk\n",
    "nltk.download('vader_lexicon')\n",
    "from nltk.sentiment.vader import SentimentIntensityAnalyzer\n",
    "\n",
    "# Create an instance of the SentimentIntensityAnalyzer\n",
    "sia = SentimentIntensityAnalyzer()\n",
    "\n",
    "# Apply the sentiment analyzer to the \"reviews\" column\n",
    "train['sentiment_score'] = train['reviews'].apply(lambda x: sia.polarity_scores(str(x))['compound'])\n",
    "test['sentiment_score'] = test['reviews'].apply(lambda x: sia.polarity_scores(str(x))['compound'])\n",
    "eval['sentiment_score'] = eval['reviews'].apply(lambda x: sia.polarity_scores(str(x))['compound'])\n"
   ]
  },
  {
   "cell_type": "code",
   "execution_count": 38,
   "metadata": {},
   "outputs": [],
   "source": [
    "# Create a user-course interaction matrix (Train)\n",
    "grouped_data_train = train.groupby('reviewers')\n",
    "user_course_interaction_train = {}\n",
    "\n",
    "for user, user_data in grouped_data_train:\n",
    "    interactions = {}\n",
    "    for _, row in user_data.iterrows():\n",
    "        course_name = row['name']\n",
    "        rating = row['Normalised Demeaned Rating']\n",
    "        sentiment_score = row['sentiment_score']\n",
    "        interactions[course_name] = 0.4*rating + 0.6*sentiment_score\n",
    "    user_course_interaction_train[user] = interactions\n",
    "\n",
    "user_course_matrix = pd.DataFrame.from_dict(user_course_interaction_train, orient=\"index\")\n",
    "user_course_matrix.fillna(0, inplace=True)\n",
    "\n",
    "# Create a user-course interaction matrix (Test)\n",
    "grouped_data_test = test.groupby('reviewers')\n",
    "user_course_interaction_test = {}\n",
    "\n",
    "for user, user_data in grouped_data_test:\n",
    "    interactions = {}\n",
    "    for _, row in user_data.iterrows():\n",
    "        course_name = row['name']\n",
    "        rating = row['Normalised Demeaned Rating']\n",
    "        sentiment_score = row['sentiment_score']\n",
    "        interactions[course_name] = 0.4*rating + 0.6*sentiment_score\n",
    "    user_course_interaction_test[user] = interactions\n",
    "\n",
    "user_course_matrix_test = pd.DataFrame.from_dict(user_course_interaction_test, orient=\"index\")\n",
    "user_course_matrix_test.fillna(0, inplace=True)\n",
    "\n",
    "# Create a user-course interaction matrix (Eval)\n",
    "grouped_data_eval = eval.groupby('reviewers')\n",
    "user_course_interaction_eval = {}\n",
    "\n",
    "for user, user_data in grouped_data_eval:\n",
    "    interactions = {}\n",
    "    for _, row in user_data.iterrows():\n",
    "        course_name = row['name']\n",
    "        rating = row['Normalised Demeaned Rating']\n",
    "        sentiment_score = row['sentiment_score']\n",
    "        interactions[course_name] = 0.4*rating + 0.6*sentiment_score\n",
    "    user_course_interaction_eval[user] = interactions\n",
    "\n",
    "user_course_matrix_eval = pd.DataFrame.from_dict(user_course_interaction_eval, orient=\"index\")\n",
    "user_course_matrix_eval.fillna(0, inplace=True)"
   ]
  },
  {
   "cell_type": "code",
   "execution_count": null,
   "metadata": {},
   "outputs": [],
   "source": [
    "from surprise import KNNBasic\n",
    "from surprise import Dataset\n",
    "from surprise import Reader\n",
    "from collections import defaultdict\n",
    "\n",
    "# Load the training data into Surprise format\n",
    "reader = Reader(rating_scale=(-1, 1))  # Assuming your ratings range from -1 to 1\n",
    "train_data = Dataset.load_from_df(train[['reviewers', 'name', 'Normalised Demeaned Rating']], reader)\n",
    "\n",
    "# Build the training set\n",
    "trainset = train_data.build_full_trainset()\n",
    "\n",
    "# Build the item-based collaborative filtering model\n",
    "model = KNNBasic(sim_options={'user_based': False})\n",
    "\n",
    "# Train the model on the training set\n",
    "model.fit(trainset)\n",
    "\n",
    "# Convert the test DataFrame into a list of tuples\n",
    "testset = list(test[['reviewers', 'name', 'Normalised Demeaned Rating']].itertuples(index=False, name=None))\n",
    "\n",
    "# Make predictions on the test set\n",
    "predictions = model.test(testset)\n",
    "\n",
    "# Group the predictions by user\n",
    "user_predictions = defaultdict(list)\n",
    "for uid, iid, true_r, est, _ in predictions:\n",
    "    user_predictions[uid].append((iid, est))\n",
    "\n",
    "# Sort the predictions for each user by the estimated rating in descending order\n",
    "# and remove duplicates by converting the list to a set and back to a list\n",
    "for uid, user_preds in user_predictions.items():\n",
    "    user_preds = list(set(user_preds))  # remove duplicates\n",
    "    user_preds.sort(key=lambda x: x[1], reverse=True)\n",
    "\n",
    "# Get the top 5 course recommendations for each user\n",
    "top_k_recommendations = {}\n",
    "for uid, user_preds in user_predictions.items():\n",
    "    top_k_recommendations[uid] = [iid for iid, _ in user_preds[:5]]\n",
    "\n",
    "# Initialize an empty list to store the recommendations\n",
    "recommendations = []\n",
    "\n",
    "# Get the top 5 course recommendations for each user\n",
    "for uid, user_preds in user_predictions.items():\n",
    "    for iid, score in user_preds[:5]:\n",
    "        recommendations.append((uid, iid, score))\n",
    "\n",
    "# Convert the list of recommendations to a DataFrame\n",
    "df_recommendations = pd.DataFrame(recommendations, columns=['reviewers', 'name', 'Score'])\n",
    "\n",
    "# Sort the recommendations by User and Score in descending order\n",
    "df_recommendations = df_recommendations.sort_values(by=['reviewers', 'Score'], ascending=[True, False])\n",
    "\n",
    "df_recommendations\n",
    "\n",
    "\n"
   ]
  },
  {
   "cell_type": "code",
   "execution_count": 109,
   "metadata": {},
   "outputs": [
    {
     "name": "stdout",
     "output_type": "stream",
     "text": [
      "FCP:  0.5027\n",
      "Precision Score at k = 5 : 0.5027134100641967\n",
      "MAE:  0.1304\n",
      "MAE Score at k = 5 : 0.13043135022567037\n",
      "MSE: 0.0528\n",
      "MSE Score at k = 5 : 0.05283062699257813\n"
     ]
    }
   ],
   "source": [
    "from surprise import accuracy\n",
    "\n",
    "# Value of k (Top 5 Recommendations)\n",
    "k = 5\n",
    "\n",
    "# Calculate FCP\n",
    "fcp = accuracy.fcp(predictions, verbose=True)\n",
    "\n",
    "print(\"Precision Score at k =\", 5, \":\", fcp)\n",
    "\n",
    "# Calculate MAE\n",
    "mae = accuracy.mae(predictions, verbose=True)\n",
    "\n",
    "print(\"MAE Score at k =\", 5, \":\", mae)\n",
    "\n",
    "# Calculate MSE\n",
    "mse = accuracy.mse(predictions, verbose=True)\n",
    "\n",
    "print(\"MSE Score at k =\", 5, \":\", mse)\n"
   ]
  }
 ],
 "metadata": {
  "kernelspec": {
   "display_name": "Python 3",
   "language": "python",
   "name": "python3"
  },
  "language_info": {
   "codemirror_mode": {
    "name": "ipython",
    "version": 3
   },
   "file_extension": ".py",
   "mimetype": "text/x-python",
   "name": "python",
   "nbconvert_exporter": "python",
   "pygments_lexer": "ipython3",
   "version": "3.9.13"
  }
 },
 "nbformat": 4,
 "nbformat_minor": 2
}
