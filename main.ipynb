{
 "cells": [
  {
   "cell_type": "markdown",
   "metadata": {},
   "source": [
    "### Load Data"
   ]
  },
  {
   "cell_type": "code",
   "execution_count": 1,
   "metadata": {},
   "outputs": [],
   "source": [
    "import pandas as pd\n",
    "\n",
    "courses = pd.read_csv('./Data/Coursera_courses.csv')\n",
    "users = pd.read_csv('./Data/Coursera_reviews.csv')\n",
    "courses_metadata = pd.read_csv('./Data/CourseraDataset-Unclean.csv')\n",
    "job_skills = pd.read_csv('./Data/job_skills.csv')\n",
    "job_metadata = pd.read_csv('./Data/linkedin_job_postings.csv')"
   ]
  },
  {
   "cell_type": "markdown",
   "metadata": {},
   "source": [
    "### Remove Duplicate Courses"
   ]
  },
  {
   "cell_type": "code",
   "execution_count": 2,
   "metadata": {},
   "outputs": [],
   "source": [
    "courses_metadata.rename(columns={'Course Title': 'name'}, inplace = True)\n",
    "courses_metadata.drop_duplicates(subset=['name'], inplace=True)"
   ]
  },
  {
   "cell_type": "markdown",
   "metadata": {},
   "source": [
    "### Merge Metadata regarding Courses with Users"
   ]
  },
  {
   "cell_type": "code",
   "execution_count": 3,
   "metadata": {},
   "outputs": [],
   "source": [
    "temp = pd.merge(users, courses, on=\"course_id\", how=\"inner\")\n",
    "courses_data = pd.merge(temp, courses_metadata, on=\"name\", how=\"inner\")\n",
    "#temp.head()\n",
    "#courses_data.head()"
   ]
  },
  {
   "cell_type": "markdown",
   "metadata": {},
   "source": [
    "### Filter Essential Columns in Courses Data"
   ]
  },
  {
   "cell_type": "code",
   "execution_count": 51,
   "metadata": {},
   "outputs": [
    {
     "data": {
      "text/html": [
       "<div>\n",
       "<style scoped>\n",
       "    .dataframe tbody tr th:only-of-type {\n",
       "        vertical-align: middle;\n",
       "    }\n",
       "\n",
       "    .dataframe tbody tr th {\n",
       "        vertical-align: top;\n",
       "    }\n",
       "\n",
       "    .dataframe thead th {\n",
       "        text-align: right;\n",
       "    }\n",
       "</style>\n",
       "<table border=\"1\" class=\"dataframe\">\n",
       "  <thead>\n",
       "    <tr style=\"text-align: right;\">\n",
       "      <th></th>\n",
       "      <th>reviews</th>\n",
       "      <th>reviewers</th>\n",
       "      <th>rating</th>\n",
       "      <th>name</th>\n",
       "      <th>institution</th>\n",
       "      <th>Overall Ratings</th>\n",
       "      <th>Level</th>\n",
       "      <th>Duration</th>\n",
       "      <th>Num of Reviews</th>\n",
       "      <th>Skill gain</th>\n",
       "      <th>Instructor</th>\n",
       "    </tr>\n",
       "  </thead>\n",
       "  <tbody>\n",
       "    <tr>\n",
       "      <th>0</th>\n",
       "      <td>Pretty dry, but I was able to pass with just t...</td>\n",
       "      <td>By Robert S</td>\n",
       "      <td>4</td>\n",
       "      <td>Become a CBRS Certified Professional Installer...</td>\n",
       "      <td>Google - Spectrum Sharing</td>\n",
       "      <td>4.5</td>\n",
       "      <td>NaN</td>\n",
       "      <td>Approx. 3 hours to complete</td>\n",
       "      <td>191 reviews</td>\n",
       "      <td>[]</td>\n",
       "      <td>['Google']</td>\n",
       "    </tr>\n",
       "    <tr>\n",
       "      <th>1</th>\n",
       "      <td>would be a better experience if the video and ...</td>\n",
       "      <td>By Gabriel E R</td>\n",
       "      <td>4</td>\n",
       "      <td>Become a CBRS Certified Professional Installer...</td>\n",
       "      <td>Google - Spectrum Sharing</td>\n",
       "      <td>4.5</td>\n",
       "      <td>NaN</td>\n",
       "      <td>Approx. 3 hours to complete</td>\n",
       "      <td>191 reviews</td>\n",
       "      <td>[]</td>\n",
       "      <td>['Google']</td>\n",
       "    </tr>\n",
       "    <tr>\n",
       "      <th>2</th>\n",
       "      <td>Information was perfect! The program itself wa...</td>\n",
       "      <td>By Jacob D</td>\n",
       "      <td>4</td>\n",
       "      <td>Become a CBRS Certified Professional Installer...</td>\n",
       "      <td>Google - Spectrum Sharing</td>\n",
       "      <td>4.5</td>\n",
       "      <td>NaN</td>\n",
       "      <td>Approx. 3 hours to complete</td>\n",
       "      <td>191 reviews</td>\n",
       "      <td>[]</td>\n",
       "      <td>['Google']</td>\n",
       "    </tr>\n",
       "    <tr>\n",
       "      <th>3</th>\n",
       "      <td>A few grammatical mistakes on test made me do ...</td>\n",
       "      <td>By Dale B</td>\n",
       "      <td>4</td>\n",
       "      <td>Become a CBRS Certified Professional Installer...</td>\n",
       "      <td>Google - Spectrum Sharing</td>\n",
       "      <td>4.5</td>\n",
       "      <td>NaN</td>\n",
       "      <td>Approx. 3 hours to complete</td>\n",
       "      <td>191 reviews</td>\n",
       "      <td>[]</td>\n",
       "      <td>['Google']</td>\n",
       "    </tr>\n",
       "    <tr>\n",
       "      <th>4</th>\n",
       "      <td>Excellent course and the training provided was...</td>\n",
       "      <td>By Sean G</td>\n",
       "      <td>4</td>\n",
       "      <td>Become a CBRS Certified Professional Installer...</td>\n",
       "      <td>Google - Spectrum Sharing</td>\n",
       "      <td>4.5</td>\n",
       "      <td>NaN</td>\n",
       "      <td>Approx. 3 hours to complete</td>\n",
       "      <td>191 reviews</td>\n",
       "      <td>[]</td>\n",
       "      <td>['Google']</td>\n",
       "    </tr>\n",
       "  </tbody>\n",
       "</table>\n",
       "</div>"
      ],
      "text/plain": [
       "                                             reviews       reviewers  rating  \\\n",
       "0  Pretty dry, but I was able to pass with just t...     By Robert S       4   \n",
       "1  would be a better experience if the video and ...  By Gabriel E R       4   \n",
       "2  Information was perfect! The program itself wa...      By Jacob D       4   \n",
       "3  A few grammatical mistakes on test made me do ...       By Dale B       4   \n",
       "4  Excellent course and the training provided was...       By Sean G       4   \n",
       "\n",
       "                                                name  \\\n",
       "0  Become a CBRS Certified Professional Installer...   \n",
       "1  Become a CBRS Certified Professional Installer...   \n",
       "2  Become a CBRS Certified Professional Installer...   \n",
       "3  Become a CBRS Certified Professional Installer...   \n",
       "4  Become a CBRS Certified Professional Installer...   \n",
       "\n",
       "                 institution  Overall Ratings Level  \\\n",
       "0  Google - Spectrum Sharing              4.5   NaN   \n",
       "1  Google - Spectrum Sharing              4.5   NaN   \n",
       "2  Google - Spectrum Sharing              4.5   NaN   \n",
       "3  Google - Spectrum Sharing              4.5   NaN   \n",
       "4  Google - Spectrum Sharing              4.5   NaN   \n",
       "\n",
       "                      Duration Num of Reviews Skill gain  Instructor  \n",
       "0  Approx. 3 hours to complete    191 reviews         []  ['Google']  \n",
       "1  Approx. 3 hours to complete    191 reviews         []  ['Google']  \n",
       "2  Approx. 3 hours to complete    191 reviews         []  ['Google']  \n",
       "3  Approx. 3 hours to complete    191 reviews         []  ['Google']  \n",
       "4  Approx. 3 hours to complete    191 reviews         []  ['Google']  "
      ]
     },
     "execution_count": 51,
     "metadata": {},
     "output_type": "execute_result"
    }
   ],
   "source": [
    "final_courses = courses_data[['reviews', 'reviewers', 'rating', 'name', 'institution', 'Rating', 'Level', 'Duration', 'Review', 'Skill gain', 'Instructor']]\n",
    "final_courses = final_courses.rename(columns={ 'Rating': 'Overall Ratings', 'Review': 'Num of Reviews'})\n",
    "#final_courses.head()"
   ]
  },
  {
   "cell_type": "markdown",
   "metadata": {},
   "source": [
    "### Merge Datasets regarding Jobs"
   ]
  },
  {
   "cell_type": "code",
   "execution_count": 5,
   "metadata": {},
   "outputs": [],
   "source": [
    "jobs_data = pd.merge(job_skills, job_metadata, on=\"job_link\", how=\"inner\")\n",
    "#jobs_data.head()"
   ]
  },
  {
   "cell_type": "markdown",
   "metadata": {},
   "source": [
    "### Filter Essential Columns in Jobs Data"
   ]
  },
  {
   "cell_type": "code",
   "execution_count": 6,
   "metadata": {},
   "outputs": [],
   "source": [
    "final_jobs = jobs_data[['job_skills', 'job_title', 'search_position', 'job_level']]\n",
    "#final_jobs.head()\n",
    "# unique_values = final_jobs['search_position'].unique()\n",
    "#print(unique_values.tolist())"
   ]
  },
  {
   "cell_type": "markdown",
   "metadata": {},
   "source": [
    "### Preprocess \n",
    "1) Prices\n",
    "2) Remove \"By' from reviewer\n",
    "3) Fill in null values in level\n",
    "4) get the number in duration, \n",
    "5) get the number in review, \n",
    "6) remove the list of skill gain\n",
    "7) remove the list of instructor\n"
   ]
  },
  {
   "cell_type": "code",
   "execution_count": 52,
   "metadata": {},
   "outputs": [],
   "source": [
    "final_courses['reviewers'] = final_courses['reviewers'].apply(lambda x: x[3:])\n",
    "final_courses['Level'].fillna('None', inplace=True)\n",
    "final_courses['Duration'] = final_courses['Duration'].str.extract('(\\d+)').astype(int)\n",
    "final_courses['Num of Reviews'] = final_courses['Num of Reviews'].str.extract('(\\d+)').astype(int)\n",
    "final_courses['Skill gain'] = final_courses['Skill gain'].apply(lambda x: x[1:-1])\n",
    "final_courses['Instructor'] = final_courses['Instructor'].apply(lambda x: x[2:-2])\n",
    "final_courses['Skill gain'] = final_courses['Skill gain'].replace('', 'No Specific Skills')\n",
    "\n",
    "# final_courses.head()"
   ]
  },
  {
   "cell_type": "markdown",
   "metadata": {},
   "source": [
    "### Handle Null Values"
   ]
  },
  {
   "cell_type": "code",
   "execution_count": 65,
   "metadata": {},
   "outputs": [],
   "source": [
    "# print(final_jobs.isnull().sum())\n",
    "# print(final_courses.isnull().sum())\n",
    "\n",
    "# # Cant do anything with empty job_skills column; got more than enough data so dropna\n",
    "# # reviews column, are we using reviews to users to do collaborative filtering?\n",
    "final_jobs = final_jobs.dropna(subset=['job_skills'])\n",
    "# print(final_jobs.isnull().sum())"
   ]
  }
 ],
 "metadata": {
  "kernelspec": {
   "display_name": "Python 3",
   "language": "python",
   "name": "python3"
  },
  "language_info": {
   "codemirror_mode": {
    "name": "ipython",
    "version": 3
   },
   "file_extension": ".py",
   "mimetype": "text/x-python",
   "name": "python",
   "nbconvert_exporter": "python",
   "pygments_lexer": "ipython3",
   "version": "3.10.6"
  }
 },
 "nbformat": 4,
 "nbformat_minor": 2
}
