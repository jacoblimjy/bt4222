{
 "cells": [
  {
   "cell_type": "markdown",
   "metadata": {},
   "source": [
    "### Load Data"
   ]
  },
  {
   "cell_type": "code",
   "execution_count": 1,
   "metadata": {},
   "outputs": [],
   "source": [
    "import pandas as pd\n",
    "import re\n",
    "\n",
    "courses_prices = pd.read_csv('./Data/course_prices.csv')\n",
    "courses = pd.read_csv('./Data/Coursera_courses.csv')\n",
    "users = pd.read_csv('./Data/Coursera_reviews.csv')\n",
    "courses_metadata = pd.read_csv('./Data/CourseraDataset-Unclean.csv')\n",
    "job_skills = pd.read_csv('./Data/job_skills.csv')\n",
    "job_metadata = pd.read_csv('./Data/linkedin_job_postings.csv')"
   ]
  },
  {
   "cell_type": "markdown",
   "metadata": {},
   "source": [
    "### Remove Duplicate Courses"
   ]
  },
  {
   "cell_type": "code",
   "execution_count": 2,
   "metadata": {},
   "outputs": [],
   "source": [
    "courses_metadata.rename(columns={'Course Title': 'name'}, inplace = True)\n",
    "courses_metadata.drop_duplicates(subset=['name'], inplace=True)"
   ]
  },
  {
   "cell_type": "markdown",
   "metadata": {},
   "source": [
    "### Remove Duplicate Reviews"
   ]
  },
  {
   "cell_type": "code",
   "execution_count": 3,
   "metadata": {},
   "outputs": [],
   "source": [
    "users.drop_duplicates(subset=['reviews', 'reviewers', 'course_id'], inplace=True)"
   ]
  },
  {
   "cell_type": "markdown",
   "metadata": {},
   "source": [
    "### Handle Null Values"
   ]
  },
  {
   "cell_type": "code",
   "execution_count": 4,
   "metadata": {},
   "outputs": [],
   "source": [
    "#print(job_skills.isnull().sum())\n",
    "#print(courses.isnull().sum())\n",
    "#print(users.isnull().sum())\n",
    "job_skills = job_skills.dropna(subset=['job_skills'])"
   ]
  },
  {
   "cell_type": "markdown",
   "metadata": {},
   "source": [
    "### Merge Courses with Users by course_id"
   ]
  },
  {
   "cell_type": "code",
   "execution_count": 5,
   "metadata": {},
   "outputs": [],
   "source": [
    "temp = pd.merge(users, courses, on=\"course_id\", how=\"inner\")\n",
    "#temp.head()"
   ]
  },
  {
   "cell_type": "markdown",
   "metadata": {},
   "source": [
    "### Remove non-ASCII values in 'name' columns in dataset"
   ]
  },
  {
   "cell_type": "code",
   "execution_count": 6,
   "metadata": {},
   "outputs": [],
   "source": [
    "def clean_string(value):\n",
    "    return value.encode('ascii', 'ignore').decode('ascii')\n",
    "\n",
    "temp['name'] = temp['name'].apply(clean_string)\n",
    "temp['institution'] = temp['institution'].apply(clean_string)\n",
    "temp['reviewers'] = temp['reviewers'].apply(clean_string)\n",
    "courses_metadata['name'] = courses_metadata['name'].apply(clean_string)\n",
    "courses_prices['name'] = courses_prices['name'].apply(clean_string)\n",
    "courses_prices['institution'] = courses_prices['institution'].apply(clean_string)"
   ]
  },
  {
   "cell_type": "markdown",
   "metadata": {},
   "source": [
    "### Merge Additional Metadata with Temp dataset"
   ]
  },
  {
   "cell_type": "code",
   "execution_count": 7,
   "metadata": {},
   "outputs": [],
   "source": [
    "courses_data = pd.merge(temp, courses_metadata, on=\"name\", how=\"inner\")\n",
    "\n",
    "#courses_data.head()"
   ]
  },
  {
   "cell_type": "markdown",
   "metadata": {},
   "source": [
    "### Filter Essential Columns in Courses Data"
   ]
  },
  {
   "cell_type": "code",
   "execution_count": 8,
   "metadata": {},
   "outputs": [],
   "source": [
    "final_courses = courses_data[['reviews', 'reviewers', 'rating', 'name', 'institution', 'Rating', 'Level', 'Duration', 'Review', 'Skill gain', 'Instructor']]\n",
    "final_courses = final_courses.rename(columns={ 'Rating': 'Overall Ratings', 'Review': 'Num of Reviews'})\n",
    "final_courses['Skill gain'] = final_courses['Skill gain'].str.replace(\"'\", \"\")\n",
    "#final_courses.head()"
   ]
  },
  {
   "cell_type": "markdown",
   "metadata": {},
   "source": [
    "### Merge Datasets regarding Jobs"
   ]
  },
  {
   "cell_type": "code",
   "execution_count": 9,
   "metadata": {},
   "outputs": [],
   "source": [
    "jobs_data = pd.merge(job_skills, job_metadata, on=\"job_link\", how=\"inner\")\n",
    "#jobs_data.head()"
   ]
  },
  {
   "cell_type": "markdown",
   "metadata": {},
   "source": [
    "### Filter Essential Columns in Jobs Data"
   ]
  },
  {
   "cell_type": "code",
   "execution_count": 10,
   "metadata": {},
   "outputs": [],
   "source": [
    "final_jobs = jobs_data[['job_skills', 'job_title', 'search_position', 'job_level']]\n",
    "#final_jobs.head()\n",
    "#unique_values = final_jobs['search_position'].unique()\n",
    "#print(unique_values.tolist())"
   ]
  },
  {
   "cell_type": "markdown",
   "metadata": {},
   "source": [
    "### Preprocess \n",
    "1) Prices\n",
    "2) Remove \"By' from reviewer\n",
    "3) Fill in null values in level\n",
    "4) get the number in duration, \n",
    "5) get the number in review, \n",
    "6) remove the list of skill gain\n",
    "7) remove the list of instructor\n"
   ]
  },
  {
   "cell_type": "code",
   "execution_count": 11,
   "metadata": {},
   "outputs": [],
   "source": [
    "final_courses['reviewers'] = final_courses['reviewers'].apply(lambda x: x[3:])\n",
    "final_courses['Level'].fillna('None', inplace=True)\n",
    "final_courses['Duration'] = final_courses['Duration'].str.extract('(\\d+)').astype(int)\n",
    "final_courses['Num of Reviews'] = final_courses['Num of Reviews'].str.extract('(\\d+)').astype(int)\n",
    "final_courses['Skill gain'] = final_courses['Skill gain'].apply(lambda x: x[1:-1])\n",
    "final_courses['Instructor'] = final_courses['Instructor'].apply(lambda x: x[2:-2])\n",
    "final_courses['Skill gain'] = final_courses['Skill gain'].replace('', 'No Specific Skills')\n",
    "\n",
    "# final_courses.head()"
   ]
  },
  {
   "cell_type": "markdown",
   "metadata": {},
   "source": [
    "### Demean Ratings"
   ]
  },
  {
   "cell_type": "code",
   "execution_count": 12,
   "metadata": {},
   "outputs": [],
   "source": [
    "reviewer_average_rating = final_courses.groupby('reviewers')['rating'].transform('mean')\n",
    "final_courses['Demeaned Rating'] = final_courses['rating'] - reviewer_average_rating\n",
    "# final_courses.head()"
   ]
  },
  {
   "cell_type": "markdown",
   "metadata": {},
   "source": [
    "### Adding Price Column to Courses Data"
   ]
  },
  {
   "cell_type": "code",
   "execution_count": 14,
   "metadata": {},
   "outputs": [
    {
     "name": "stdout",
     "output_type": "stream",
     "text": [
      "reviews            44\n",
      "reviewers           0\n",
      "rating              0\n",
      "name                0\n",
      "institution         0\n",
      "Overall Ratings     0\n",
      "Level               0\n",
      "Duration            0\n",
      "Num of Reviews      0\n",
      "Skill gain          0\n",
      "Instructor          0\n",
      "Demeaned Rating     0\n",
      "Fee_x               0\n",
      "Fee_y               0\n",
      "dtype: int64\n",
      "                                             reviews    reviewers  rating  \\\n",
      "0  Pretty dry, but I was able to pass with just t...     Robert S       4   \n",
      "1  would be a better experience if the video and ...  Gabriel E R       4   \n",
      "2  Information was perfect! The program itself wa...      Jacob D       4   \n",
      "3  A few grammatical mistakes on test made me do ...       Dale B       4   \n",
      "4  Excellent course and the training provided was...       Sean G       4   \n",
      "\n",
      "                                                name  \\\n",
      "0  Become a CBRS Certified Professional Installer...   \n",
      "1  Become a CBRS Certified Professional Installer...   \n",
      "2  Become a CBRS Certified Professional Installer...   \n",
      "3  Become a CBRS Certified Professional Installer...   \n",
      "4  Become a CBRS Certified Professional Installer...   \n",
      "\n",
      "                 institution  Overall Ratings Level  Duration  Num of Reviews  \\\n",
      "0  Google - Spectrum Sharing              4.5  None         3             191   \n",
      "1  Google - Spectrum Sharing              4.5  None         3             191   \n",
      "2  Google - Spectrum Sharing              4.5  None         3             191   \n",
      "3  Google - Spectrum Sharing              4.5  None         3             191   \n",
      "4  Google - Spectrum Sharing              4.5  None         3             191   \n",
      "\n",
      "           Skill gain Instructor  Demeaned Rating  Fee_x  Fee_y  \n",
      "0  No Specific Skills     Google        -0.418182    599    599  \n",
      "1  No Specific Skills     Google         0.000000    599    599  \n",
      "2  No Specific Skills     Google        -0.444444    599    599  \n",
      "3  No Specific Skills     Google         0.000000    599    599  \n",
      "4  No Specific Skills     Google         0.125000    599    599  \n",
      "Count of datapoints (417712, 14)\n",
      "Count of Unique Reviewers 239002\n",
      "Count of Unique Courses 485\n"
     ]
    }
   ],
   "source": [
    "final_courses = pd.merge(final_courses, courses_prices, on=['institution', 'name'], how='inner')\n",
    "print(final_courses.isnull().sum())\n",
    "print(final_courses.head())\n",
    "print(\"Count of datapoints\", final_courses.shape)\n",
    "print(\"Count of Unique Reviewers\", final_courses['reviewers'].nunique())\n",
    "print(\"Count of Unique Courses\", final_courses['name'].nunique())"
   ]
  }
 ],
 "metadata": {
  "kernelspec": {
   "display_name": "Python 3",
   "language": "python",
   "name": "python3"
  },
  "language_info": {
   "codemirror_mode": {
    "name": "ipython",
    "version": 3
   },
   "file_extension": ".py",
   "mimetype": "text/x-python",
   "name": "python",
   "nbconvert_exporter": "python",
   "pygments_lexer": "ipython3",
   "version": "3.10.6"
  }
 },
 "nbformat": 4,
 "nbformat_minor": 2
}
