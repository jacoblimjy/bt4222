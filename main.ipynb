{
 "cells": [
  {
   "cell_type": "markdown",
   "metadata": {},
   "source": [
    "Load Data"
   ]
  },
  {
   "cell_type": "code",
   "execution_count": 1,
   "metadata": {},
   "outputs": [],
   "source": [
    "import pandas as pd\n",
    "\n",
    "courses = pd.read_csv('./Data/Coursera_courses.csv')\n",
    "users = pd.read_csv('./Data/Coursera_reviews.csv')\n",
    "courses_metadata = pd.read_csv('./Data/CourseraDataset-Unclean.csv')\n",
    "job_skills = pd.read_csv('./Data/job_skills.csv')\n",
    "job_metadata = pd.read_csv('./Data/linkedin_job_postings.csv')"
   ]
  },
  {
   "cell_type": "markdown",
   "metadata": {},
   "source": [
    "Remove Duplicate Courses"
   ]
  },
  {
   "cell_type": "code",
   "execution_count": 2,
   "metadata": {},
   "outputs": [],
   "source": [
    "courses_metadata.rename(columns={'Course Title': 'name'}, inplace = True)\n",
    "courses_metadata.drop_duplicates(subset=['name'], inplace=True)"
   ]
  },
  {
   "cell_type": "markdown",
   "metadata": {},
   "source": [
    "Merge Metadata regarding Courses with Users"
   ]
  },
  {
   "cell_type": "code",
   "execution_count": 3,
   "metadata": {},
   "outputs": [],
   "source": [
    "temp = pd.merge(users, courses, on=\"course_id\", how=\"inner\")\n",
    "courses_data = pd.merge(temp, courses_metadata, on=\"name\", how=\"inner\")\n",
    "#temp.head()\n",
    "#courses_data.head()"
   ]
  },
  {
   "cell_type": "markdown",
   "metadata": {},
   "source": [
    "Filter Essential Columns in Courses Data"
   ]
  },
  {
   "cell_type": "code",
   "execution_count": 4,
   "metadata": {},
   "outputs": [],
   "source": [
    "final_courses = courses_data[['reviews', 'reviewers', 'rating', 'name', 'institution', 'Rating', 'Level', 'Duration', 'Review', 'Skill gain', 'Instructor']]\n",
    "final_courses = final_courses.rename(columns={ 'Rating': 'Overall Ratings', 'Review': 'Num of Reviews'})\n",
    "#final_courses.head()"
   ]
  },
  {
   "cell_type": "markdown",
   "metadata": {},
   "source": [
    "Merge Datasets regarding Jobs"
   ]
  },
  {
   "cell_type": "code",
   "execution_count": 5,
   "metadata": {},
   "outputs": [],
   "source": [
    "jobs_data = pd.merge(job_skills, job_metadata, on=\"job_link\", how=\"inner\")\n",
    "#jobs_data.head()"
   ]
  },
  {
   "cell_type": "markdown",
   "metadata": {},
   "source": [
    "Filter Essential Columns in Jobs Data"
   ]
  },
  {
   "cell_type": "code",
   "execution_count": 6,
   "metadata": {},
   "outputs": [],
   "source": [
    "final_jobs = jobs_data[['job_skills', 'job_title', 'search_position', 'job_level']]\n",
    "#final_jobs.head()\n",
    "# unique_values = final_jobs['search_position'].unique()\n",
    "#print(unique_values.tolist())"
   ]
  }
 ],
 "metadata": {
  "kernelspec": {
   "display_name": "Python 3",
   "language": "python",
   "name": "python3"
  },
  "language_info": {
   "codemirror_mode": {
    "name": "ipython",
    "version": 3
   },
   "file_extension": ".py",
   "mimetype": "text/x-python",
   "name": "python",
   "nbconvert_exporter": "python",
   "pygments_lexer": "ipython3",
   "version": "3.10.6"
  }
 },
 "nbformat": 4,
 "nbformat_minor": 2
}
